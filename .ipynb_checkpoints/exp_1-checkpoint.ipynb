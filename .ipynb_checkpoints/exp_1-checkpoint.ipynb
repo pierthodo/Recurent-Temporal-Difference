{
 "cells": [
  {
   "cell_type": "code",
   "execution_count": 3,
   "metadata": {
    "collapsed": true
   },
   "outputs": [],
   "source": [
    "import numpy as np\n",
    "import matplotlib.pyplot as plt\n",
    "%matplotlib inline\n",
    "import seaborn as sns\n",
    "import copy"
   ]
  },
  {
   "cell_type": "code",
   "execution_count": 4,
   "metadata": {
    "collapsed": true
   },
   "outputs": [],
   "source": [
    "def v_opt(l_chain):\n",
    "    P = np.zeros((l_chain*3,l_chain*3))\n",
    "    r= np.zeros(l_chain*3)\n",
    "    r[l_chain*2-1] = 10\n",
    "    r[l_chain*3-1] = -10\n",
    "    for i in range(l_chain-1):\n",
    "        P[i,i+1] = 1\n",
    "    P[l_chain-1,l_chain] = P[l_chain-1,l_chain*2] = 0.5\n",
    "    for i in range(l_chain-1):\n",
    "        P[l_chain+i,l_chain+i+1]= 1\n",
    "        P[l_chain*2+i,l_chain*2+i+1]= 1\n",
    "    P[l_chain*2-1,0] = 1\n",
    "    P[l_chain*3-1,0] = 1\n",
    "    return P,r"
   ]
  },
  {
   "cell_type": "code",
   "execution_count": 7,
   "metadata": {
    "collapsed": true
   },
   "outputs": [],
   "source": [
    "def run(P,r,v_s,beta,gamma=0.9999,iteration = 5000,decay=False,lr=0.1,exp_smooth=0): \n",
    "    dist = []\n",
    "    v = np.ones((P.shape[0]))\n",
    "    #v=copy.deepcopy(v_s)\n",
    "    e = np.zeros((P.shape[0]))\n",
    "    s = 0\n",
    "    v_t = v[s]\n",
    "    e[s] = 1\n",
    "    dist_mean = []\n",
    "    dist= []\n",
    "    for n in range(iteration):\n",
    "        s_ = np.random.choice(np.arange(size),p=P[s,:])\n",
    "        #lr /= 1+0.00001*n\n",
    "        e = (1-beta[s])*e\n",
    "        e[s] += beta[s]\n",
    "        v_t_n = (1-beta[s_]) * (v_t -r[s]) + beta[s_] *v[s_]\n",
    "        delta = r[s] + gamma *(v_t_n) - v_t\n",
    "        #print(\"s: \",s,\" s_: \",s_,\" r: \",r[s],\" delta \",delta,\" v_t_n \",v_t_n,\" v_t \",v_t)\n",
    "        #print(v)\n",
    "        #print(e)\n",
    "        #print(\"\")\n",
    "        #print(v_t,\" \",v_s[s])\n",
    "        #print(\"\")\n",
    "        #print(v)\n",
    "        for i in range(P.shape[0]):\n",
    "            v[i] += lr*e[i]*delta\n",
    "\n",
    "        dist.append(np.abs(v_s[s]-v_t))\n",
    "        if s ==0:\n",
    "            dist_mean.append(np.array(dist).mean())\n",
    "            dist = []\n",
    "        v_t = (1-beta[s_]) * ((v_t -r[s])/gamma)+ beta[s_] *v[s_]\n",
    "        s = s_\n",
    "    return np.array(dist_mean)"
   ]
  },
  {
   "cell_type": "code",
   "execution_count": 29,
   "metadata": {
    "scrolled": false
   },
   "outputs": [
    {
     "name": "stdout",
     "output_type": "stream",
     "text": [
      "1\n",
      "2\n",
      "3\n",
      "4\n",
      "5\n",
      "6\n",
      "7\n",
      "8\n",
      "9\n",
      "10\n",
      "11\n",
      "12\n",
      "13\n",
      "14\n",
      "15\n",
      "16\n",
      "17\n",
      "18\n",
      "19\n",
      "20\n",
      "21\n",
      "22\n",
      "23\n",
      "24\n",
      "25\n"
     ]
    }
   ],
   "source": [
    "res = []\n",
    "for l in range(25):\n",
    "    l+=1\n",
    "    print(l)\n",
    "    #l=10   ## Length of the walks without information \n",
    "    size = l*3  ## Length of the total MDP\n",
    "    length_score = 50 ## Number of episodes considered\n",
    "    gamma = 0.9999\n",
    "    iteration = length_score * l * 2\n",
    "    rep=100\n",
    "\n",
    "    ### Get the transition reward and opt v_s\n",
    "    P,r = v_opt(l)\n",
    "    v_s = np.linalg.solve((np.identity(size)-gamma*P),r)\n",
    "\n",
    "    ## Optimal beta\n",
    "    beta_opt = np.zeros(l*3)\n",
    "    beta_opt[0] = beta_opt[l] = beta_opt[l*2] = 1\n",
    "\n",
    "\n",
    "    result = np.empty((rep,length_score,2))\n",
    "    for i in range(rep):\n",
    "        result[i,:,0] = run(P,r,v_s,[1]*size*3,iteration=iteration)[:length_score]\n",
    "        result[i,:,1] = run(P,r,v_s,beta_opt,iteration=iteration)[:length_score]\n",
    "    res.append(result.mean(axis=(0,1)))\n",
    "\n",
    "    #ax = plt.subplot(121)\n",
    "    #ax.set_xlabel(\"Number of iterations\",fontsize=14)\n",
    "    #ax.set_ylabel(\"Error\",fontsize=14)\n",
    "    #sns.tsplot(result[:,:,:],condition=[\"Original\",\"Credut\"])\n",
    "    #plt.show()"
   ]
  },
  {
   "cell_type": "code",
   "execution_count": 41,
   "metadata": {},
   "outputs": [
    {
     "data": {
      "text/plain": [
       "<matplotlib.text.Text at 0x7f8a57227128>"
      ]
     },
     "execution_count": 41,
     "metadata": {},
     "output_type": "execute_result"
    },
    {
     "data": {
      "image/png": "[encoded data removed]",
      "text/plain": [
       "<matplotlib.figure.Figure at 0x7f8a5cff0d30>"
      ]
     },
     "metadata": {},
     "output_type": "display_data"
    }
   ],
   "source": [
    "fig = plt.figure()\n",
    "plt.plot(np.array(res)[:,0],label=\"Original\")\n",
    "plt.plot(np.array(res)[:,1],label=\"Recurrent\")\n",
    "\n",
    "plt.legend()\n",
    "plt.xlabel(\"size of the chain\")\n",
    "plt.ylabel(\"size of the chain\")"
   ]
  },
  {
   "cell_type": "code",
   "execution_count": null,
   "metadata": {
    "collapsed": true
   },
   "outputs": [],
   "source": []
  }
 ],
 "metadata": {
  "kernelspec": {
   "display_name": "Python 3",
   "language": "python",
   "name": "python3"
  },
  "language_info": {
   "codemirror_mode": {
    "name": "ipython",
    "version": 3
   },
   "file_extension": ".py",
   "mimetype": "text/x-python",
   "name": "python",
   "nbconvert_exporter": "python",
   "pygments_lexer": "ipython3",
   "version": "3.6.4"
  },
  "widgets": {
   "state": {},
   "version": "1.0.0"
  }
 },
 "nbformat": 4,
 "nbformat_minor": 2
}
